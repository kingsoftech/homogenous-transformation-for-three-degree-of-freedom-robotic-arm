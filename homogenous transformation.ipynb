{
 "cells": [
  {
   "cell_type": "code",
   "execution_count": 29,
   "metadata": {},
   "outputs": [
    {
     "name": "stdout",
     "output_type": "stream",
     "text": [
      "[[ 0. -1.  0.]\n",
      " [ 1.  0.  0.]\n",
      " [ 0.  0.  1.]]\n"
     ]
    }
   ],
   "source": [
    "import numpy as np\n",
    "T1= 45# theta 1 angle in degrees\n",
    "T2 = 45 # theta 2 angle in degrees\n",
    "T1 = (T1/180.0)*np.pi # theta 1 in radian\n",
    "T2 = (T2/180.0)*np.pi # theta 2 in radian\n",
    "R0_1 = [[np.cos(T1), -np.sin(T1), 0],\n",
    "       [np.sin(T1), np.cos(T1), 0], \n",
    "       [0,0,1]]\n",
    "R1_2= [[np.cos(T2), -np.sin(T2), 0],\n",
    "      [np.cos(T2), np.sin(T2), 0],\n",
    "      [0,0,1]]\n",
    "R0_2= np.dot(R0_1, R1_2)\n",
    "print(R0_2)\n",
    "a1 = 5 # link length a1\n",
    "a2 = 6 # link length a2\n",
    "a3 = 5.5 # link length a3\n",
    "a4 = 5.5 # link length a4"
   ]
  },
  {
   "cell_type": "code",
   "execution_count": 30,
   "metadata": {},
   "outputs": [
    {
     "name": "stdout",
     "output_type": "stream",
     "text": [
      "[[3.8890873]\n",
      " [3.8890873]\n",
      " [5.5      ]]\n"
     ]
    }
   ],
   "source": [
    "d0_1 = [[a2*np.cos(T1)], \n",
    "       [a2*np.sin(T1)],\n",
    "       [a1]]\n",
    "d1_2 = [[a4*np.cos(T2)], \n",
    "       [a4*np.sin(T2)],\n",
    "       [a3]]\n",
    "    \n",
    "print(np.matrix(d1_2))"
   ]
  },
  {
   "cell_type": "code",
   "execution_count": 31,
   "metadata": {},
   "outputs": [
    {
     "name": "stdout",
     "output_type": "stream",
     "text": [
      "[[ 0.70710678 -0.70710678  0.          4.24264069]\n",
      " [ 0.70710678  0.70710678  0.          4.24264069]\n",
      " [ 0.          0.          1.          5.        ]\n",
      " [ 0.          0.          0.          1.        ]]\n"
     ]
    }
   ],
   "source": [
    "H0_1 = np.concatenate((R0_1,d0_1), 1)\n",
    "H0_1 = np.concatenate((H0_1,[[0,0,0,1]]),0)\n",
    "print(np.matrix(H0_1))"
   ]
  },
  {
   "cell_type": "code",
   "execution_count": 32,
   "metadata": {},
   "outputs": [
    {
     "name": "stdout",
     "output_type": "stream",
     "text": [
      "[[ 0.         -1.          0.          4.24264069]\n",
      " [ 1.          0.          0.          9.74264069]\n",
      " [ 0.          0.          1.         10.5       ]\n",
      " [ 0.          0.          0.          1.        ]]\n"
     ]
    }
   ],
   "source": [
    " H1_2 = np.concatenate((R1_2,d1_2), 1)\n",
    "H1_2 = np.concatenate((H1_2,[[0,0,0,1]]),0)\n",
    "#print(np.matrix(H1_2))\n",
    "H0_2 = np.dot(H0_1, H1_2)\n",
    "print(np.matrix(H0_2)) "
   ]
  },
  {
   "cell_type": "code",
   "execution_count": null,
   "metadata": {},
   "outputs": [],
   "source": []
  },
  {
   "cell_type": "code",
   "execution_count": null,
   "metadata": {},
   "outputs": [],
   "source": []
  },
  {
   "cell_type": "code",
   "execution_count": null,
   "metadata": {},
   "outputs": [],
   "source": []
  }
 ],
 "metadata": {
  "kernelspec": {
   "display_name": "Python 3",
   "language": "python",
   "name": "python3"
  },
  "language_info": {
   "codemirror_mode": {
    "name": "ipython",
    "version": 3
   },
   "file_extension": ".py",
   "mimetype": "text/x-python",
   "name": "python",
   "nbconvert_exporter": "python",
   "pygments_lexer": "ipython3",
   "version": "3.7.3"
  }
 },
 "nbformat": 4,
 "nbformat_minor": 2
}
